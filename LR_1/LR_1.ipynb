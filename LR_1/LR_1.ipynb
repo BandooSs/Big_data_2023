{
 "cells": [
  {
   "cell_type": "code",
   "execution_count": 27,
   "id": "043b6a19-9466-42b5-9650-4ec639597c3f",
   "metadata": {},
   "outputs": [],
   "source": [
    "from pyspark import SparkContext, SparkConf \n",
    "from pyspark.sql import SparkSession\n",
    "import pyspark.sql as sql\n",
    "from pyspark.sql.functions import col"
   ]
  },
  {
   "cell_type": "code",
   "execution_count": 63,
   "id": "3c6ec72e-80ae-4319-bf4d-a4b96ea1489e",
   "metadata": {},
   "outputs": [],
   "source": [
    "conf = SparkConf().setAppName(\"my_LR_1\").setMaster('local[1]')\n",
    "sc = SparkContext(conf=conf)\n",
    "spark = SparkSession(sc)"
   ]
  },
  {
   "cell_type": "code",
   "execution_count": 64,
   "id": "d7b8f454-2367-46ac-9f1f-99168f489953",
   "metadata": {},
   "outputs": [
    {
     "data": {
      "text/html": [
       "\n",
       "        <div>\n",
       "            <p><b>SparkContext</b></p>\n",
       "\n",
       "            <p><a href=\"http://n1.maapr.xyz:4040\">Spark UI</a></p>\n",
       "\n",
       "            <dl>\n",
       "              <dt>Version</dt>\n",
       "                <dd><code>v3.1.2.0-eep-800</code></dd>\n",
       "              <dt>Master</dt>\n",
       "                <dd><code>local[1]</code></dd>\n",
       "              <dt>AppName</dt>\n",
       "                <dd><code>my_LR_1</code></dd>\n",
       "            </dl>\n",
       "        </div>\n",
       "        "
      ],
      "text/plain": [
       "<SparkContext master=local[1] appName=my_LR_1>"
      ]
     },
     "execution_count": 64,
     "metadata": {},
     "output_type": "execute_result"
    }
   ],
   "source": [
    "sc# проверка"
   ]
  },
  {
   "cell_type": "code",
   "execution_count": 65,
   "id": "da5a14f2-caeb-4c18-9f9c-868c59b6b9d6",
   "metadata": {},
   "outputs": [
    {
     "name": "stdout",
     "output_type": "stream",
     "text": [
      "Found 3 items\n",
      "-rwxr-xr-x   3 kuricyn kuricyn      12237 2023-12-20 13:46 Untitled.ipynb\n",
      "-rwxr-xr-x   3 kuricyn kuricyn       5647 2023-12-20 13:46 station.csv\n",
      "-rwxr-xr-x   3 kuricyn kuricyn   80208848 2023-12-20 13:46 trip.csv\n"
     ]
    }
   ],
   "source": [
    "!hadoop fs -ls"
   ]
  },
  {
   "cell_type": "markdown",
   "id": "fc5791f8-1c71-4fb1-a878-809c73199243",
   "metadata": {},
   "source": [
    "Видно, что загружено три файла"
   ]
  },
  {
   "cell_type": "code",
   "execution_count": 95,
   "id": "8c5b703a-28a3-4176-8afc-bb6029285edf",
   "metadata": {},
   "outputs": [],
   "source": [
    "# Чтение данных из файла \"trip.csv\" и создание DataFrame trip_data\n",
    "trip_data = spark.read\\\n",
    ".option(\"header\", True)\\\n",
    ".option(\"inferSchema\", True)\\\n",
    ".option(\"timestampFormat\", 'M/d/y H:m')\\\n",
    ".csv(\"trip.csv\")\n",
    "# Чтение данных из файла \"station.csv\" и создание DataFrame station_data\n",
    "staation_data = spark.read\\\n",
    ".option(\"header\", True)\\\n",
    ".option(\"inferSchema\", True)\\\n",
    ".option(\"timestampFormat\", 'M/d/y')\\\n",
    ".csv(\"station.csv\")"
   ]
  },
  {
   "cell_type": "markdown",
   "id": "55f3194c-e4d3-4e3a-b374-07a8c05b9b41",
   "metadata": {},
   "source": [
    "№Задание 1. Найти велосипед с максимальным временем пробега (буду делать через SQL)"
   ]
  },
  {
   "cell_type": "code",
   "execution_count": 96,
   "id": "1e7cd9e7-4d39-454f-b2d5-b72ae7f4f6ac",
   "metadata": {},
   "outputs": [
    {
     "name": "stdout",
     "output_type": "stream",
     "text": [
      "Результат:\n",
      "+-------+--------+\n",
      "|bike_id|     dur|\n",
      "+-------+--------+\n",
      "|    535|18611693|\n",
      "+-------+--------+\n",
      "\n"
     ]
    }
   ],
   "source": [
    "trip_data.createOrReplaceTempView(\"trip\")\n",
    "# Выполнение SQL-подобного запроса\n",
    "result = spark.sql(\"SELECT bike_id, sum(duration) as dur from trip group by bike_id order by dur DESC LIMIT 1\")\n",
    "print(\"Результат:\")\n",
    "result.show()"
   ]
  },
  {
   "cell_type": "markdown",
   "id": "9f8213e2-eb45-4ea7-8efc-e1d5924c3877",
   "metadata": {},
   "source": [
    "Задание 2. Найти наибольшее геодезическое расстояние между станциями."
   ]
  },
  {
   "cell_type": "code",
   "execution_count": 78,
   "id": "e0b9bf7b-7e80-4189-82e9-14d52154a3a6",
   "metadata": {},
   "outputs": [],
   "source": [
    "# Создание нового DataFrame \n",
    "joined_station = staation_data.crossJoin(staation_data)"
   ]
  },
  {
   "cell_type": "code",
   "execution_count": 79,
   "id": "cf921284-107c-41ed-8bbf-fe34659ae371",
   "metadata": {},
   "outputs": [],
   "source": [
    "from math import radians, cos, sin, asin, sqrt\n",
    "\n",
    "def calculate_distance(lat1, lon1, lat2, lon2):\n",
    "    # Преобразуем координаты в радианы\n",
    "    lon1, lat1, lon2, lat2 = map(radians, [lon1, lat1, lon2, lat2])\n",
    "\n",
    "    # Применяем формулу Хаверсина\n",
    "    dlon = lon2 - lon1\n",
    "    dlat = lat2 - lat1\n",
    "    a = sin(dlat/2)**2 + cos(lat1) * cos(lat2) * sin(dlon/2)**2\n",
    "    c = 2 * asin(sqrt(a))\n",
    "    r = 6371 # Радиус Земли в километрах\n",
    "    return c * r"
   ]
  },
  {
   "cell_type": "code",
   "execution_count": 80,
   "id": "31bb6f35-1921-4544-9c81-00305f4b0655",
   "metadata": {},
   "outputs": [],
   "source": [
    "# Использование метода map для применения функции calculate_distance\n",
    "result_2 = joined_station.rdd.map(lambda x: calculate_distance(x[2], x[3], x[9], x[10])).max()"
   ]
  },
  {
   "cell_type": "code",
   "execution_count": 83,
   "id": "8b6ffb1e-cd54-40c9-89d4-229f68f32c5f",
   "metadata": {},
   "outputs": [
    {
     "name": "stdout",
     "output_type": "stream",
     "text": [
      "Наибольшее геодезическое расстояние между станциями: 69.92\n"
     ]
    }
   ],
   "source": [
    "print(f\"Наибольшее геодезическое расстояние между станциями: {result_2:.2f}\")"
   ]
  },
  {
   "cell_type": "markdown",
   "id": "f78e7689-cc48-44a9-97f9-b6971f71158a",
   "metadata": {},
   "source": [
    "Задание 3. Найти путь велосипеда с максимальным временем пробега через станции."
   ]
  },
  {
   "cell_type": "code",
   "execution_count": 87,
   "id": "5e25a9ac-e5fb-44bb-8ada-d9d71c3dace6",
   "metadata": {},
   "outputs": [
    {
     "name": "stdout",
     "output_type": "stream",
     "text": [
      "путь велосипеда с максимальным временем пробега через станции: [2.312047985749405]\n"
     ]
    }
   ],
   "source": [
    "temp = trip_data.orderBy(col(\"duration\").desc()).limit(1).collect()\n",
    "result_3 = joined_station.rdd.filter(lambda l: (l[1] == temp[0].start_station_name) and (l[8] == temp[0].end_station_name))\\\n",
    ".map(lambda x: calculate_distance(x[2], x[3], x[9], x[10]))\n",
    "print(f\"путь велосипеда с максимальным временем пробега через станции: {result_3.collect()}\")"
   ]
  },
  {
   "cell_type": "markdown",
   "id": "b9d4351c-3849-4c41-a68e-ce7df14d89fd",
   "metadata": {},
   "source": [
    "Задание 4. Найти количество велосипедов в системе."
   ]
  },
  {
   "cell_type": "code",
   "execution_count": 89,
   "id": "b7d5d365-9852-4d91-8b2c-bb343c4cc17d",
   "metadata": {},
   "outputs": [
    {
     "name": "stdout",
     "output_type": "stream",
     "text": [
      "Результат:\n",
      "+-----------------------+\n",
      "|count(DISTINCT bike_id)|\n",
      "+-----------------------+\n",
      "|                    700|\n",
      "+-----------------------+\n",
      "\n"
     ]
    }
   ],
   "source": [
    "result_4 = spark.sql(\"select count(distinct bike_id) from trip\")\n",
    "print(\"Результат:\")\n",
    "result_4.show()"
   ]
  },
  {
   "cell_type": "markdown",
   "id": "a3a449ec-9eb9-4be0-96c1-15d02ae9e12d",
   "metadata": {},
   "source": [
    "Задание 5. Найти пользователей потративших на поездки более 3 часов."
   ]
  },
  {
   "cell_type": "code",
   "execution_count": 94,
   "id": "24f8de69-a1a4-4e96-80c2-a50e128c68dd",
   "metadata": {},
   "outputs": [
    {
     "name": "stdout",
     "output_type": "stream",
     "text": [
      "Результат:\n",
      "+------+------------+\n",
      "|    id|sum_duration|\n",
      "+------+------------+\n",
      "|  6654|       17751|\n",
      "| 22097|       21686|\n",
      "| 22223|       15619|\n",
      "| 30654|       13479|\n",
      "| 34759|       17959|\n",
      "| 43688|       22504|\n",
      "| 88666|       21964|\n",
      "| 88674|       13726|\n",
      "|105536|       19854|\n",
      "|143153|       20649|\n",
      "|146988|       44084|\n",
      "|189310|       21785|\n",
      "|431881|       28377|\n",
      "|431018|       12301|\n",
      "|427387|       12612|\n",
      "|418759|       15526|\n",
      "|418461|       15103|\n",
      "|410754|       16743|\n",
      "|386707|       14313|\n",
      "|305619|       12412|\n",
      "+------+------------+\n",
      "only showing top 20 rows\n",
      "\n"
     ]
    }
   ],
   "source": [
    "result_5 = spark.sql(\"SELECT id, sum_duration FROM ( SELECT id, sum(duration) as sum_duration FROM trip GROUP BY id) WHERE sum_duration > 10800\")\n",
    "print(\"Результат:\")\n",
    "result_5.show()"
   ]
  },
  {
   "cell_type": "code",
   "execution_count": 62,
   "id": "f3b5e8aa-cc15-489d-b37f-0aad971dfdd3",
   "metadata": {},
   "outputs": [],
   "source": [
    "sc.stop()# отключаемся"
   ]
  },
  {
   "cell_type": "code",
   "execution_count": null,
   "id": "ed206207-d312-404d-b107-e944b86daa40",
   "metadata": {},
   "outputs": [],
   "source": []
  }
 ],
 "metadata": {
  "kernelspec": {
   "display_name": "Python 3",
   "language": "python",
   "name": "python3"
  },
  "language_info": {
   "codemirror_mode": {
    "name": "ipython",
    "version": 3
   },
   "file_extension": ".py",
   "mimetype": "text/x-python",
   "name": "python",
   "nbconvert_exporter": "python",
   "pygments_lexer": "ipython3",
   "version": "3.9.5"
  }
 },
 "nbformat": 4,
 "nbformat_minor": 5
}

{
 "cells": [
  {
   "cell_type": "code",
   "execution_count": 26,
   "id": "0d0d23d6-3614-4157-9645-836493f7e776",
   "metadata": {},
   "outputs": [],
   "source": [
    "import os\n",
    "from pyspark import SparkContext, SparkConf \n",
    "from pyspark.sql import SparkSession\n",
    "from pyspark.sql.functions import col\n",
    "import pyspark.sql as sql\n",
    "from pyspark.sql.functions import explode\n",
    "from pyspark.sql import Window\n",
    "from pyspark.sql.functions import row_number"
   ]
  },
  {
   "cell_type": "code",
   "execution_count": 2,
   "id": "279f44a7-c45d-4352-820f-ce5d56fb1e6b",
   "metadata": {},
   "outputs": [],
   "source": [
    "os.environ['PYSPARK_SUBMIT_ARGS'] = '--packages com.databricks:spark-xml_2.12:0.14.0 pyspark-shell'"
   ]
  },
  {
   "cell_type": "code",
   "execution_count": 4,
   "id": "6417ddee-81c4-47db-91a2-02f4bb4a84be",
   "metadata": {},
   "outputs": [],
   "source": [
    "conf = SparkConf().setAppName(\"my_LR_2\").setMaster('local[1]')\n",
    "sc = SparkContext(conf=conf)\n",
    "spark = SparkSession(sc)"
   ]
  },
  {
   "cell_type": "code",
   "execution_count": 13,
   "id": "625f7307-c2cc-4558-abed-5fbadef44780",
   "metadata": {},
   "outputs": [
    {
     "name": "stdout",
     "output_type": "stream",
     "text": [
      "Found 9 items\n",
      "drwxr-xr-x   - kuricyn kuricyn          1 2023-12-20 14:55 .sparkStaging\n",
      "-rwxr-xr-x   3 kuricyn kuricyn      10824 2023-12-20 15:14 LR_1.ipynb\n",
      "-rwxr-xr-x   3 kuricyn kuricyn      16004 2023-12-20 15:14 LR_2.ipynb\n",
      "-rwxr-xr-x   3 kuricyn kuricyn      12237 2023-12-20 13:46 Untitled.ipynb\n",
      "-rwxr-xr-x   3 kuricyn kuricyn   34603008 2023-12-20 15:14 posts_sample.xml\n",
      "-rwxr-xr-x   3 kuricyn kuricyn      40269 2023-12-20 15:14 programming-languages.csv\n",
      "drwxr-xr-x   - kuricyn kuricyn          0 2023-12-20 14:23 spark-warehouse\n",
      "-rwxr-xr-x   3 kuricyn kuricyn       5647 2023-12-20 13:46 station.csv\n",
      "-rwxr-xr-x   3 kuricyn kuricyn   80208848 2023-12-20 13:46 trip.csv\n"
     ]
    }
   ],
   "source": [
    "!hadoop fs -ls"
   ]
  },
  {
   "cell_type": "code",
   "execution_count": 23,
   "id": "8eb18e97-e7b0-45d5-b212-c6c73d003af0",
   "metadata": {},
   "outputs": [],
   "source": [
    "# Чтение данных из файла\n",
    "posts_sample = spark.read.format('xml')\\\n",
    ".option('rootTag', 'posts')\\\n",
    ".option('rowTag', 'row')\\\n",
    ".load(\"posts_sample.xml\")\n",
    "# Чтение данных из файла\n",
    "wiki_languages = spark.read\\\n",
    ".option(\"header\", True)\\\n",
    ".option(\"inferSchema\", True)\\\n",
    ".csv(\"programming-languages.csv\")"
   ]
  },
  {
   "cell_type": "code",
   "execution_count": 16,
   "id": "a0ea2a83-49cc-4d06-921a-9b8957cd4218",
   "metadata": {},
   "outputs": [],
   "source": [
    "# Выбор определенных столбцов из DataFrame posts_sample\n",
    "posts_sample_DF = posts_sample.select(\"_CreationDate\", \"_ViewCount\", \"_Tags\")"
   ]
  },
  {
   "cell_type": "code",
   "execution_count": 33,
   "id": "17b20ba7-1b75-40af-ae97-c5d092754730",
   "metadata": {},
   "outputs": [],
   "source": [
    "# Фильтрация строк DataFrame posts_sample_DF\n",
    "parsed_posts_sample = posts_sample_DF.filter(\"_Tags is not null\").rdd.map(lambda x: (str(x[0]).split('-')[0], x[1], x[2][1:-1].split('><'))).toDF([\"year\", \"views\", \"languages\"])\n",
    "# Извлечение года, количества просмотров и списка языков из каждой строки в диапазоне от 2010 до 2020 включительно\n",
    "parsed_posts_sample = parsed_posts_sample.filter(col(\"year\") >= 2010).filter(col(\"year\") <= 2020)"
   ]
  },
  {
   "cell_type": "code",
   "execution_count": 21,
   "id": "f9f11ce2-afb5-48cc-8eb3-d885843f75c8",
   "metadata": {},
   "outputs": [
    {
     "name": "stdout",
     "output_type": "stream",
     "text": [
      "+----+-----+------------------+\n",
      "|year|views|          language|\n",
      "+----+-----+------------------+\n",
      "|2010| 3650|               c++|\n",
      "|2010| 3650|character-encoding|\n",
      "|2010|  617|        sharepoint|\n",
      "|2010|  617|          infopath|\n",
      "|2010| 1315|            iphone|\n",
      "|2010| 1315|         app-store|\n",
      "|2010| 1315|   in-app-purchase|\n",
      "|2010|  973|          symfony1|\n",
      "|2010|  973|            schema|\n",
      "|2010|  973|          doctrine|\n",
      "|2010|  973|          fixtures|\n",
      "|2010|  132|              java|\n",
      "|2010|  419|visual-studio-2010|\n",
      "|2010|  419|          stylecop|\n",
      "|2010|  869|           cakephp|\n",
      "|2010|  869|       file-upload|\n",
      "|2010|  869|         swfupload|\n",
      "|2010| 1303|               git|\n",
      "|2010| 1303|            cygwin|\n",
      "|2010| 1303|             putty|\n",
      "+----+-----+------------------+\n",
      "only showing top 20 rows\n",
      "\n"
     ]
    }
   ],
   "source": [
    "parsed_posts_sample = parsed_posts_sample.withColumn(\"language\", explode(parsed_posts_sample[\"languages\"])).drop('languages')\n",
    "parsed_posts_sample.show()"
   ]
  },
  {
   "cell_type": "code",
   "execution_count": 24,
   "id": "4423e235-ac03-42dd-a38f-172da8c3dccf",
   "metadata": {},
   "outputs": [
    {
     "name": "stdout",
     "output_type": "stream",
     "text": [
      "+----+-----+-----------+\n",
      "|year|views|   language|\n",
      "+----+-----+-----------+\n",
      "|2010|  132|       java|\n",
      "|2010| 1258|        php|\n",
      "|2010| 9649|       ruby|\n",
      "|2010| 2384|          c|\n",
      "|2010| 1987|        php|\n",
      "|2010| 3321|     python|\n",
      "|2010|  128| javascript|\n",
      "|2010|  477|applescript|\n",
      "|2010| 1748|        php|\n",
      "|2010|  998|        php|\n",
      "|2010| 2095| javascript|\n",
      "|2010|  447|        sed|\n",
      "|2010| 6558|     python|\n",
      "|2010|  214|       java|\n",
      "|2010|  214|       ruby|\n",
      "|2010|  852|objective-c|\n",
      "|2010|  179| javascript|\n",
      "|2010| 6709|          r|\n",
      "|2010|   78|        php|\n",
      "|2010| 1280| javascript|\n",
      "+----+-----+-----------+\n",
      "only showing top 20 rows\n",
      "\n"
     ]
    }
   ],
   "source": [
    "# Выбор всех имен языков из столбца \"name\" в DataFrame wiki_languages и приведение их к нижнему регистру\n",
    "names = wiki_languages.select(\"name\").rdd.map(lambda x: x[0].lower()).collect()\n",
    "# Фильтрация DataFrame parsed_posts_sample: оставляем только записи, где язык содержится в списке names\n",
    "parsed_posts_sample = parsed_posts_sample.filter(parsed_posts_sample.language.isin(names))\n",
    "parsed_posts_sample.show()"
   ]
  },
  {
   "cell_type": "code",
   "execution_count": 25,
   "id": "d1df8d24-52b1-4c5c-ae55-03a5087112f6",
   "metadata": {},
   "outputs": [
    {
     "name": "stdout",
     "output_type": "stream",
     "text": [
      "+----+----------+----------+\n",
      "|year|  language|sum(views)|\n",
      "+----+----------+----------+\n",
      "|2013|    erlang|       864|\n",
      "|2017|typescript|     19078|\n",
      "|2017|       sed|        51|\n",
      "|2013|javascript|    245957|\n",
      "|2013|        f#|       228|\n",
      "|2012|powershell|     13711|\n",
      "|2019|       php|      2032|\n",
      "|2017|   haskell|      2132|\n",
      "|2013|autohotkey|       790|\n",
      "|2019|     xpath|        27|\n",
      "|2015|    racket|       762|\n",
      "|2017|        go|       970|\n",
      "|2018|     perl6|       109|\n",
      "|2012|        f#|      1222|\n",
      "|2018|    python|     38826|\n",
      "|2017|    prolog|        76|\n",
      "|2014|       php|    142858|\n",
      "|2018|       x++|        78|\n",
      "|2014|       lua|       604|\n",
      "|2019|   haskell|        85|\n",
      "+----+----------+----------+\n",
      "only showing top 20 rows\n",
      "\n"
     ]
    }
   ],
   "source": [
    "# Группировка DataFrame parsed_posts_sample по столбцам \"year\" и \"language\" с агрегацией суммы просмотров\n",
    "parsed_posts_sample = parsed_posts_sample.groupBy(\"year\", \"language\").agg({\"views\": \"sum\"})\n",
    "parsed_posts_sample.show()"
   ]
  },
  {
   "cell_type": "code",
   "execution_count": 29,
   "id": "586d14a7-07e6-4118-9136-362aa3f4f710",
   "metadata": {},
   "outputs": [],
   "source": [
    "window = Window.partitionBy(parsed_posts_sample['year']).orderBy(parsed_posts_sample['sum(views)'].desc())\n",
    "# Применение аналитической функции row_number() для упорядочивания и нумерации строк в каждой группе по убыванию суммы просмотров\n",
    "parsed_posts_sample_top10 = parsed_posts_sample.select('*', row_number().over(window).alias('row_number')).filter(col('row_number') <= 10)\n",
    "# Дополнительная сортировка и удаление лишнего столбца\n",
    "parsed_posts_sample_top10 = parsed_posts_sample_top10.orderBy(col(\"year\").asc(), col(\"sum(views)\").desc()).drop(\"rank\")\n",
    "# Переименование столбца \"sum(views)\" в \"views\"\n",
    "parsed_posts_sample_top10 = parsed_posts_sample_top10.withColumnRenamed(\"sum(views)\", \"views\")\n",
    "# Запись результата в формате Parquet\n",
    "parsed_posts_sample_top10.write.mode('overwrite').parquet(\"top_10_languages_per_year_between_2010_and_2020.parquet\")"
   ]
  },
  {
   "cell_type": "code",
   "execution_count": 30,
   "id": "4769bb89-ab98-487b-b75f-37055b91cede",
   "metadata": {},
   "outputs": [
    {
     "name": "stdout",
     "output_type": "stream",
     "text": [
      "Found 10 items\n",
      "drwxr-xr-x   - kuricyn kuricyn          1 2023-12-20 14:55 .sparkStaging\n",
      "-rwxr-xr-x   3 kuricyn kuricyn      10824 2023-12-20 15:14 LR_1.ipynb\n",
      "-rwxr-xr-x   3 kuricyn kuricyn      16004 2023-12-20 15:14 LR_2.ipynb\n",
      "-rwxr-xr-x   3 kuricyn kuricyn      12237 2023-12-20 13:46 Untitled.ipynb\n",
      "-rwxr-xr-x   3 kuricyn kuricyn   34603008 2023-12-20 15:14 posts_sample.xml\n",
      "-rwxr-xr-x   3 kuricyn kuricyn      40269 2023-12-20 15:14 programming-languages.csv\n",
      "drwxr-xr-x   - kuricyn kuricyn          0 2023-12-20 14:23 spark-warehouse\n",
      "-rwxr-xr-x   3 kuricyn kuricyn       5647 2023-12-20 13:46 station.csv\n",
      "drwxr-xr-x   - kuricyn kuricyn        101 2023-12-20 15:30 top_10_languages_per_year_between_2010_and_2020.parquet\n",
      "-rwxr-xr-x   3 kuricyn kuricyn   80208848 2023-12-20 13:46 trip.csv\n"
     ]
    }
   ],
   "source": [
    "!hadoop fs -ls"
   ]
  },
  {
   "cell_type": "code",
   "execution_count": 32,
   "id": "2a7643ec-3cd9-4a78-9d5f-10a094d0c906",
   "metadata": {},
   "outputs": [],
   "source": [
    "# загрузка с сервера\n",
    "!hadoop fs -get top_10_languages_per_year_between_2010_and_2020.parquet ."
   ]
  },
  {
   "cell_type": "code",
   "execution_count": null,
   "id": "110fa29b-f743-4016-a208-5d74afd816df",
   "metadata": {},
   "outputs": [],
   "source": [
    "sc.stop()# отключаемся"
   ]
  }
 ],
 "metadata": {
  "kernelspec": {
   "display_name": "Python 3",
   "language": "python",
   "name": "python3"
  },
  "language_info": {
   "codemirror_mode": {
    "name": "ipython",
    "version": 3
   },
   "file_extension": ".py",
   "mimetype": "text/x-python",
   "name": "python",
   "nbconvert_exporter": "python",
   "pygments_lexer": "ipython3",
   "version": "3.9.5"
  }
 },
 "nbformat": 4,
 "nbformat_minor": 5
}
